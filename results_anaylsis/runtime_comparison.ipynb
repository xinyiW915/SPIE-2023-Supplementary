{
 "cells": [
  {
   "cell_type": "code",
   "execution_count": 312,
   "metadata": {
    "collapsed": true,
    "pycharm": {
     "name": "#%%\n"
    }
   },
   "outputs": [],
   "source": [
    "import os\n",
    "import pandas as pd\n",
    "import numpy as np\n",
    "import matplotlib.pyplot as plt\n",
    "import seaborn as sns\n",
    "from adjustText import adjust_text"
   ]
  },
  {
   "cell_type": "code",
   "execution_count": 313,
   "outputs": [],
   "source": [
    "def extract_quality_predictor(folder_path):\n",
    "    combined_df = pd.DataFrame()\n",
    "\n",
    "    for filename in os.listdir(folder_path):\n",
    "        if filename.endswith('.csv'):\n",
    "            file_path = os.path.join(folder_path, filename)\n",
    "            df = pd.read_csv(file_path)\n",
    "\n",
    "            file_name = os.path.splitext(filename)[0]\n",
    "            metrics_name = file_name.replace('YOUTUBE_UGC_1080P_', '').replace('_svr_runtimes', '')\n",
    "            avg_runtime = df[\"RunTime\"].mean()\n",
    "\n",
    "            data = {'METRICS': metrics_name, \"Quality Predictor\": avg_runtime}\n",
    "            avg_df = pd.DataFrame(data, index=[0])\n",
    "\n",
    "            if combined_df.empty:\n",
    "                combined_df = avg_df\n",
    "            else:\n",
    "                combined_df = pd.concat([combined_df, avg_df], ignore_index=True)\n",
    "\n",
    "    custom_order = [\"Saliency\", \"NSS\", \"NSS_Saliency\", \"NSS_CNN\", \"NSS_CNN_Saliency\", \"NSS_VSFACNN\", \"NSS_VSFACNN_Saliency\", \"CNN\", \"CNN_Saliency\", \"VSFACNN\", \"VSFACNN_Saliency\"]\n",
    "    # 将 \"METRICS\" 列转换为 Categorical 类型，并指定顺序\n",
    "    combined_df[\"METRICS\"] = pd.Categorical(combined_df[\"METRICS\"], categories=custom_order, ordered=True)\n",
    "    combined_df = combined_df.sort_values(by=\"METRICS\", ignore_index=True)\n",
    "    return combined_df"
   ],
   "metadata": {
    "collapsed": false,
    "pycharm": {
     "name": "#%%\n"
    }
   }
  },
  {
   "cell_type": "code",
   "execution_count": 314,
   "outputs": [
    {
     "data": {
      "text/plain": "                 METRICS  Quality Predictor\n0               Saliency           4.979652\n1                    NSS          15.676357\n2           NSS_Saliency          17.064781\n3                NSS_CNN          29.556556\n4       NSS_CNN_Saliency          31.275543\n5            NSS_VSFACNN          43.941810\n6   NSS_VSFACNN_Saliency          44.125352\n7                    CNN          17.453567\n8           CNN_Saliency          18.610317\n9                VSFACNN          31.692277\n10      VSFACNN_Saliency          31.980228",
      "text/html": "<div>\n<style scoped>\n    .dataframe tbody tr th:only-of-type {\n        vertical-align: middle;\n    }\n\n    .dataframe tbody tr th {\n        vertical-align: top;\n    }\n\n    .dataframe thead th {\n        text-align: right;\n    }\n</style>\n<table border=\"1\" class=\"dataframe\">\n  <thead>\n    <tr style=\"text-align: right;\">\n      <th></th>\n      <th>METRICS</th>\n      <th>Quality Predictor</th>\n    </tr>\n  </thead>\n  <tbody>\n    <tr>\n      <th>0</th>\n      <td>Saliency</td>\n      <td>4.979652</td>\n    </tr>\n    <tr>\n      <th>1</th>\n      <td>NSS</td>\n      <td>15.676357</td>\n    </tr>\n    <tr>\n      <th>2</th>\n      <td>NSS_Saliency</td>\n      <td>17.064781</td>\n    </tr>\n    <tr>\n      <th>3</th>\n      <td>NSS_CNN</td>\n      <td>29.556556</td>\n    </tr>\n    <tr>\n      <th>4</th>\n      <td>NSS_CNN_Saliency</td>\n      <td>31.275543</td>\n    </tr>\n    <tr>\n      <th>5</th>\n      <td>NSS_VSFACNN</td>\n      <td>43.941810</td>\n    </tr>\n    <tr>\n      <th>6</th>\n      <td>NSS_VSFACNN_Saliency</td>\n      <td>44.125352</td>\n    </tr>\n    <tr>\n      <th>7</th>\n      <td>CNN</td>\n      <td>17.453567</td>\n    </tr>\n    <tr>\n      <th>8</th>\n      <td>CNN_Saliency</td>\n      <td>18.610317</td>\n    </tr>\n    <tr>\n      <th>9</th>\n      <td>VSFACNN</td>\n      <td>31.692277</td>\n    </tr>\n    <tr>\n      <th>10</th>\n      <td>VSFACNN_Saliency</td>\n      <td>31.980228</td>\n    </tr>\n  </tbody>\n</table>\n</div>"
     },
     "execution_count": 314,
     "metadata": {},
     "output_type": "execute_result"
    }
   ],
   "source": [
    "folder_path1 = './runtime_comparison/quality_predictor/bc4'\n",
    "\n",
    "result_pre = extract_quality_predictor(folder_path1)\n",
    "result_pre.to_csv(f'./runtime_comparison/quality_predictor_bc4_runtimes.csv', index=False)\n",
    "result_pre"
   ],
   "metadata": {
    "collapsed": false,
    "pycharm": {
     "name": "#%%\n"
    }
   }
  },
  {
   "cell_type": "code",
   "execution_count": 315,
   "outputs": [],
   "source": [
    "def extract_feature_extraction(folder_path):\n",
    "    combined_df = pd.DataFrame()\n",
    "\n",
    "    for filename in os.listdir(folder_path):\n",
    "        if filename.endswith('.csv'):\n",
    "            file_path = os.path.join(folder_path, filename)\n",
    "            df = pd.read_csv(file_path)\n",
    "\n",
    "            file_name = os.path.splitext(filename)[0]\n",
    "            metrics_name = file_name.replace('YOUTUBE_UGC_1080P_test_', '').replace('_runtimes', '')\n",
    "            avg_runtime = df[\"RunTime\"].mean()\n",
    "\n",
    "            data = {'METRICS': metrics_name, \"Feature Extractor\": avg_runtime}\n",
    "            avg_df = pd.DataFrame(data, index=[0])\n",
    "\n",
    "            if combined_df.empty:\n",
    "                combined_df = avg_df\n",
    "            else:\n",
    "                combined_df = pd.concat([combined_df, avg_df], ignore_index=True)\n",
    "\n",
    "    custom_order = [\"Saliency\", \"NSS\", \"NSS_Saliency\", \"NSS_CNN\", \"NSS_CNN_Saliency\", \"NSS_VSFACNN\", \"NSS_VSFACNN_Saliency\", \"CNN\", \"CNN_Saliency\", \"VSFACNN\", \"VSFACNN_Saliency\"]\n",
    "    # 将 \"METRICS\" 列转换为 Categorical 类型，并指定顺序\n",
    "    combined_df[\"METRICS\"] = pd.Categorical(combined_df[\"METRICS\"], categories=custom_order, ordered=True)\n",
    "    combined_df = combined_df.sort_values(by=\"METRICS\", ignore_index=True)\n",
    "    return combined_df"
   ],
   "metadata": {
    "collapsed": false,
    "pycharm": {
     "name": "#%%\n"
    }
   }
  },
  {
   "cell_type": "code",
   "execution_count": 316,
   "outputs": [
    {
     "data": {
      "text/plain": "                 METRICS  Feature Extractor\n0               Saliency          52.621347\n1                    NSS         103.312130\n2           NSS_Saliency         289.216961\n3                NSS_CNN         115.361240\n4       NSS_CNN_Saliency         310.812224\n5            NSS_VSFACNN         103.351301\n6   NSS_VSFACNN_Saliency         104.457540\n7                    CNN          23.739883\n8           CNN_Saliency          66.989293\n9                VSFACNN        1841.127690\n10      VSFACNN_Saliency          92.269400",
      "text/html": "<div>\n<style scoped>\n    .dataframe tbody tr th:only-of-type {\n        vertical-align: middle;\n    }\n\n    .dataframe tbody tr th {\n        vertical-align: top;\n    }\n\n    .dataframe thead th {\n        text-align: right;\n    }\n</style>\n<table border=\"1\" class=\"dataframe\">\n  <thead>\n    <tr style=\"text-align: right;\">\n      <th></th>\n      <th>METRICS</th>\n      <th>Feature Extractor</th>\n    </tr>\n  </thead>\n  <tbody>\n    <tr>\n      <th>0</th>\n      <td>Saliency</td>\n      <td>52.621347</td>\n    </tr>\n    <tr>\n      <th>1</th>\n      <td>NSS</td>\n      <td>103.312130</td>\n    </tr>\n    <tr>\n      <th>2</th>\n      <td>NSS_Saliency</td>\n      <td>289.216961</td>\n    </tr>\n    <tr>\n      <th>3</th>\n      <td>NSS_CNN</td>\n      <td>115.361240</td>\n    </tr>\n    <tr>\n      <th>4</th>\n      <td>NSS_CNN_Saliency</td>\n      <td>310.812224</td>\n    </tr>\n    <tr>\n      <th>5</th>\n      <td>NSS_VSFACNN</td>\n      <td>103.351301</td>\n    </tr>\n    <tr>\n      <th>6</th>\n      <td>NSS_VSFACNN_Saliency</td>\n      <td>104.457540</td>\n    </tr>\n    <tr>\n      <th>7</th>\n      <td>CNN</td>\n      <td>23.739883</td>\n    </tr>\n    <tr>\n      <th>8</th>\n      <td>CNN_Saliency</td>\n      <td>66.989293</td>\n    </tr>\n    <tr>\n      <th>9</th>\n      <td>VSFACNN</td>\n      <td>1841.127690</td>\n    </tr>\n    <tr>\n      <th>10</th>\n      <td>VSFACNN_Saliency</td>\n      <td>92.269400</td>\n    </tr>\n  </tbody>\n</table>\n</div>"
     },
     "execution_count": 316,
     "metadata": {},
     "output_type": "execute_result"
    }
   ],
   "source": [
    "folder_path2 = './runtime_comparison/feature_extraction/bc4'\n",
    "\n",
    "result_feat = extract_feature_extraction(folder_path2)\n",
    "result_feat"
   ],
   "metadata": {
    "collapsed": false,
    "pycharm": {
     "name": "#%%\n"
    }
   }
  },
  {
   "cell_type": "code",
   "execution_count": 317,
   "outputs": [
    {
     "data": {
      "text/plain": "                 METRICS  Feature Extractor\n0               Saliency          52.621347\n1                    NSS         103.312130\n2           NSS_Saliency         289.216961\n3                NSS_CNN         115.361240\n4       NSS_CNN_Saliency         310.812224\n5            NSS_VSFACNN        1944.478991\n6   NSS_VSFACNN_Saliency         196.726939\n7                    CNN          23.739883\n8           CNN_Saliency          66.989293\n9                VSFACNN        1841.127690\n10      VSFACNN_Saliency          92.269400",
      "text/html": "<div>\n<style scoped>\n    .dataframe tbody tr th:only-of-type {\n        vertical-align: middle;\n    }\n\n    .dataframe tbody tr th {\n        vertical-align: top;\n    }\n\n    .dataframe thead th {\n        text-align: right;\n    }\n</style>\n<table border=\"1\" class=\"dataframe\">\n  <thead>\n    <tr style=\"text-align: right;\">\n      <th></th>\n      <th>METRICS</th>\n      <th>Feature Extractor</th>\n    </tr>\n  </thead>\n  <tbody>\n    <tr>\n      <th>0</th>\n      <td>Saliency</td>\n      <td>52.621347</td>\n    </tr>\n    <tr>\n      <th>1</th>\n      <td>NSS</td>\n      <td>103.312130</td>\n    </tr>\n    <tr>\n      <th>2</th>\n      <td>NSS_Saliency</td>\n      <td>289.216961</td>\n    </tr>\n    <tr>\n      <th>3</th>\n      <td>NSS_CNN</td>\n      <td>115.361240</td>\n    </tr>\n    <tr>\n      <th>4</th>\n      <td>NSS_CNN_Saliency</td>\n      <td>310.812224</td>\n    </tr>\n    <tr>\n      <th>5</th>\n      <td>NSS_VSFACNN</td>\n      <td>1944.478991</td>\n    </tr>\n    <tr>\n      <th>6</th>\n      <td>NSS_VSFACNN_Saliency</td>\n      <td>196.726939</td>\n    </tr>\n    <tr>\n      <th>7</th>\n      <td>CNN</td>\n      <td>23.739883</td>\n    </tr>\n    <tr>\n      <th>8</th>\n      <td>CNN_Saliency</td>\n      <td>66.989293</td>\n    </tr>\n    <tr>\n      <th>9</th>\n      <td>VSFACNN</td>\n      <td>1841.127690</td>\n    </tr>\n    <tr>\n      <th>10</th>\n      <td>VSFACNN_Saliency</td>\n      <td>92.269400</td>\n    </tr>\n  </tbody>\n</table>\n</div>"
     },
     "execution_count": 317,
     "metadata": {},
     "output_type": "execute_result"
    }
   ],
   "source": [
    "new_result_feat = result_feat.copy()\n",
    "\n",
    "if 'VSFACNN_Saliency' in new_result_feat['METRICS'].values and 'NSS_VSFACNN_Saliency' in new_result_feat['METRICS'].values:\n",
    "\n",
    "    runtime1 = new_result_feat.loc[new_result_feat['METRICS'] == 'NSS_VSFACNN_Saliency', 'Feature Extractor'].values[0]\n",
    "    runtime2 = new_result_feat.loc[new_result_feat['METRICS'] == 'VSFACNN_Saliency', 'Feature Extractor'].values[0]\n",
    "\n",
    "    new_result_feat.loc[new_result_feat['METRICS'] == 'NSS_VSFACNN_Saliency', 'Feature Extractor'] = runtime1 + runtime2\n",
    "\n",
    "if 'VSFACNN' in new_result_feat['METRICS'].values and 'NSS_VSFACNN' in new_result_feat['METRICS'].values:\n",
    "\n",
    "    runtime1 = new_result_feat.loc[new_result_feat['METRICS'] == 'NSS_VSFACNN', 'Feature Extractor'].values[0]\n",
    "    runtime2 = new_result_feat.loc[new_result_feat['METRICS'] == 'VSFACNN', 'Feature Extractor'].values[0]\n",
    "\n",
    "    new_result_feat.loc[new_result_feat['METRICS'] == 'NSS_VSFACNN', 'Feature Extractor'] = runtime1 + runtime2\n",
    "\n",
    "new_result_feat.to_csv(f'./runtime_comparison/feature_extraction_bc4_runtimes.csv', index=False)\n",
    "new_result_feat"
   ],
   "metadata": {
    "collapsed": false,
    "pycharm": {
     "name": "#%%\n"
    }
   }
  },
  {
   "cell_type": "code",
   "execution_count": 318,
   "outputs": [],
   "source": [
    "# SALIENCY\n",
    "# NSS\n",
    "# NSS SALIENCY\n",
    "# NSS CNN (RAPIQUE)\n",
    "# NSS CNN SALIENCY\n",
    "# NSS VSFACNN\n",
    "# NSS VSFACNN SALIENCY\n",
    "# CNN (ResNet-50)\n",
    "# CNN SALIENCY\n",
    "# VSFACNN  (on BC4)缺\n",
    "# VSFACNN SALIENCY\n",
    "\n",
    "# py.importlib.import_module('get_cnnsafeats');\n",
    "# NSS_VSFACNN_Saliency (total) = VSFCNN_Saliency (runtime) + NSS_VSFACNN_Saliency(feature runtime)\n",
    "# NSS_VSFACNN_Saliency (total) = VSFCNN (runtime) + NSS_VSFACNN(feature runtime)"
   ],
   "metadata": {
    "collapsed": false,
    "pycharm": {
     "name": "#%%\n"
    }
   }
  },
  {
   "cell_type": "code",
   "execution_count": 319,
   "outputs": [],
   "source": [
    "# data1 = np.load('/Users/xxxyy/PycharmProjects/UoB/results_anaylsis/runtime_comparison/feature_extraction/bc4/0_resnet-50_res5c.npy')\n",
    "# data1"
   ],
   "metadata": {
    "collapsed": false,
    "pycharm": {
     "name": "#%%\n"
    }
   }
  },
  {
   "cell_type": "code",
   "execution_count": 320,
   "outputs": [],
   "source": [
    "# data2 = np.load('/Users/xxxyy/PycharmProjects/UoB/results_anaylsis/runtime_comparison/feature_extraction/Lab_PC/0_resnet-50_res5c.npy')\n",
    "# data2"
   ],
   "metadata": {
    "collapsed": false,
    "pycharm": {
     "name": "#%%\n"
    }
   }
  }
 ],
 "metadata": {
  "kernelspec": {
   "display_name": "Python 3",
   "language": "python",
   "name": "python3"
  },
  "language_info": {
   "codemirror_mode": {
    "name": "ipython",
    "version": 2
   },
   "file_extension": ".py",
   "mimetype": "text/x-python",
   "name": "python",
   "nbconvert_exporter": "python",
   "pygments_lexer": "ipython2",
   "version": "2.7.6"
  }
 },
 "nbformat": 4,
 "nbformat_minor": 0
}