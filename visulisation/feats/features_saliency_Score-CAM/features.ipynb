{
 "cells": [
  {
   "cell_type": "code",
   "execution_count": 32,
   "metadata": {
    "collapsed": true,
    "pycharm": {
     "name": "#%%\n"
    }
   },
   "outputs": [],
   "source": [
    "import numpy as np\n",
    "import scipy.io as io"
   ]
  },
  {
   "cell_type": "code",
   "execution_count": 33,
   "outputs": [
    {
     "name": "stdout",
     "output_type": "stream",
     "text": [
      "<class 'numpy.ndarray'>\n",
      "4\n",
      "(1, 1, 224, 224)\n",
      "(224, 224)\n"
     ]
    },
    {
     "data": {
      "text/plain": "array([[0.17999865, 0.17999865, 0.17999865, ..., 0.26718742, 0.26718742,\n        0.26718742],\n       [0.17999865, 0.17999865, 0.17999865, ..., 0.26718742, 0.26718742,\n        0.26718742],\n       [0.17999865, 0.17999865, 0.17999865, ..., 0.26718742, 0.26718742,\n        0.26718742],\n       ...,\n       [0.09691054, 0.09691054, 0.09691054, ..., 0.13272469, 0.13272469,\n        0.13272469],\n       [0.09691054, 0.09691054, 0.09691054, ..., 0.13272469, 0.13272469,\n        0.13272469],\n       [0.09691054, 0.09691054, 0.09691054, ..., 0.13272469, 0.13272469,\n        0.13272469]], dtype=float32)"
     },
     "execution_count": 33,
     "metadata": {},
     "output_type": "execute_result"
    }
   ],
   "source": [
    "# load saliency_features\n",
    "mean_samp = np.load('./mean_samp.npy')\n",
    "# print(mean_samp)\n",
    "\n",
    "print(type(mean_samp))\n",
    "print(mean_samp.ndim)\n",
    "print(mean_samp.shape)\n",
    "\n",
    "# reduce dimension = 1\n",
    "mean_samp = np.squeeze(mean_samp)\n",
    "print(mean_samp.shape)\n",
    "mean_samp"
   ],
   "metadata": {
    "collapsed": false,
    "pycharm": {
     "name": "#%%\n"
    }
   }
  },
  {
   "cell_type": "code",
   "execution_count": 34,
   "outputs": [
    {
     "name": "stdout",
     "output_type": "stream",
     "text": [
      "(224, 224)\n"
     ]
    },
    {
     "data": {
      "text/plain": "array([[0.17999865, 0.17999865, 0.17999865, ..., 0.26718742, 0.26718742,\n        0.26718742],\n       [0.17999865, 0.17999865, 0.17999865, ..., 0.26718742, 0.26718742,\n        0.26718742],\n       [0.17999865, 0.17999865, 0.17999865, ..., 0.26718742, 0.26718742,\n        0.26718742],\n       ...,\n       [0.09691054, 0.09691054, 0.09691054, ..., 0.13272469, 0.13272469,\n        0.13272469],\n       [0.09691054, 0.09691054, 0.09691054, ..., 0.13272469, 0.13272469,\n        0.13272469],\n       [0.09691054, 0.09691054, 0.09691054, ..., 0.13272469, 0.13272469,\n        0.13272469]], dtype=float32)"
     },
     "execution_count": 34,
     "metadata": {},
     "output_type": "execute_result"
    }
   ],
   "source": [
    "mean_samp = np.squeeze(mean_samp)\n",
    "print(mean_samp.shape)\n",
    "mean_samp"
   ],
   "metadata": {
    "collapsed": false,
    "pycharm": {
     "name": "#%%\n"
    }
   }
  },
  {
   "cell_type": "code",
   "execution_count": 35,
   "outputs": [],
   "source": [
    "io.savemat('./samp.mat', {'mean_samp': mean_samp})"
   ],
   "metadata": {
    "collapsed": false,
    "pycharm": {
     "name": "#%%\n"
    }
   }
  }
 ],
 "metadata": {
  "kernelspec": {
   "display_name": "Python 3",
   "language": "python",
   "name": "python3"
  },
  "language_info": {
   "codemirror_mode": {
    "name": "ipython",
    "version": 2
   },
   "file_extension": ".py",
   "mimetype": "text/x-python",
   "name": "python",
   "nbconvert_exporter": "python",
   "pygments_lexer": "ipython2",
   "version": "2.7.6"
  }
 },
 "nbformat": 4,
 "nbformat_minor": 0
}