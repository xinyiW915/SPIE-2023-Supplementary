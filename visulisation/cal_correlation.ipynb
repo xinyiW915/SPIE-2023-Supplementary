{
 "cells": [
  {
   "cell_type": "code",
   "execution_count": 10,
   "metadata": {
    "collapsed": true,
    "pycharm": {
     "name": "#%%\n"
    }
   },
   "outputs": [],
   "source": [
    "import numpy as np\n",
    "import pandas as pd\n",
    "from scipy import stats\n",
    "from scipy.interpolate import interp1d\n",
    "from scipy.io import loadmat\n",
    "from skimage.transform import resize\n",
    "from PIL import Image\n",
    "\n",
    "import warnings\n",
    "warnings.filterwarnings(\"ignore\")"
   ]
  },
  {
   "cell_type": "code",
   "execution_count": 11,
   "outputs": [],
   "source": [
    "# test plans:\n",
    "# downsample to 45*45=2025\n",
    "# representational dissimilarity matrix (RDM)\n",
    "# kernel inception distance\n",
    "# (1, 1, 224, 224) indicates a NumPy array with 1 sample or element, each having 1 channel (grayscale image or single-channel data), and a height and width of 224"
   ],
   "metadata": {
    "collapsed": false,
    "pycharm": {
     "name": "#%%\n"
    }
   }
  },
  {
   "cell_type": "code",
   "execution_count": 12,
   "outputs": [],
   "source": [
    "def normalize_feature_vector(feature):\n",
    "    norm = np.linalg.norm(feature)\n",
    "    normalized_feature = feature / np.sqrt(norm ** 2) #norm^2\n",
    "    return normalized_feature"
   ],
   "metadata": {
    "collapsed": false,
    "pycharm": {
     "name": "#%%\n"
    }
   }
  },
  {
   "cell_type": "code",
   "execution_count": 13,
   "outputs": [],
   "source": [
    "def cosine_similarity(feature1, feature2):\n",
    "    dot_product = np.dot(feature1, feature2)\n",
    "    norm1 = np.linalg.norm(feature1)\n",
    "    norm2 = np.linalg.norm(feature2)\n",
    "    similarity = dot_product / (norm1 * norm2)\n",
    "    return similarity"
   ],
   "metadata": {
    "collapsed": false,
    "pycharm": {
     "name": "#%%\n"
    }
   }
  },
  {
   "cell_type": "code",
   "execution_count": 14,
   "outputs": [],
   "source": [
    "def cal_correlation(phi1, phi2):\n",
    "    # phi1 = np.array([1, 2, 3])\n",
    "    # phi2 = np.array([-1, 0, 1])\n",
    "    normalized_phi1 = normalize_feature_vector(phi1)\n",
    "    normalized_phi2 = normalize_feature_vector(phi2)\n",
    "    correlation = cosine_similarity(normalized_phi1, normalized_phi2)\n",
    "\n",
    "    # print(\"Correlation:\", correlation)\n",
    "    return correlation"
   ],
   "metadata": {
    "collapsed": false,
    "pycharm": {
     "name": "#%%\n"
    }
   }
  },
  {
   "cell_type": "code",
   "execution_count": 15,
   "outputs": [
    {
     "name": "stdout",
     "output_type": "stream",
     "text": [
      "saliency_feats.ndim: (1, 1, 224, 224)\n",
      "saliency_feats.shape: (224, 224)\n",
      "deep_feats.shape: (1, 2048)\n",
      "deep_feats.shape: (2048,)\n",
      "downsampled_feats.shape: (2025,)\n",
      "correlations: [0.28190503, 0.28266147, 0.283403, 0.28514144, 0.28931573, 0.29387653, 0.29770592, 0.29903704, 0.301136, 0.30470684, 0.3059226, 0.3057047, 0.3062006, 0.30755904, 0.3103522, 0.31354374, 0.31681454, 0.31895995, 0.32089785, 0.3234861, 0.32599044, 0.3276855, 0.32788476, 0.32884887]\n",
      "Max correlation: 0.32884887\n",
      "Max correlation index: 23\n",
      "Avg correlation: 0.30661416\n",
      "=============================================\n",
      "saliency_feats.ndim: (1, 1, 224, 224)\n",
      "saliency_feats.shape: (224, 224)\n",
      "deep_feats.shape: (1, 2048)\n",
      "deep_feats.shape: (2048,)\n",
      "downsampled_feats.shape: (2025,)\n",
      "correlations: [0.2979585, 0.29970455, 0.30191228, 0.30503067, 0.310179, 0.31513897, 0.31947127, 0.32178223, 0.32386208, 0.32717702, 0.32683107, 0.32605514, 0.32682016, 0.32737184, 0.32888603, 0.3308792, 0.33376122, 0.3365703, 0.3374589, 0.3388074, 0.34200785, 0.34350392, 0.34417596, 0.34417397]\n",
      "Max correlation: 0.34417596\n",
      "Max correlation index: 22\n",
      "Avg correlation: 0.32539666\n",
      "=============================================\n",
      "saliency_feats.ndim: (1, 1, 224, 224)\n",
      "saliency_feats.shape: (224, 224)\n",
      "deep_feats.shape: (1, 2048)\n",
      "deep_feats.shape: (2048,)\n",
      "downsampled_feats.shape: (2025,)\n",
      "correlations: [0.47663882, 0.47837597, 0.48172483, 0.48637757, 0.49018162, 0.49293867, 0.49255285, 0.49070528, 0.48776472, 0.48434505, 0.4834937, 0.48296937, 0.4813875, 0.47942778, 0.47758532, 0.47713518, 0.47776794, 0.47920412, 0.48090166, 0.48258734, 0.48380637, 0.4836295, 0.4819321, 0.48162943]\n",
      "Max correlation: 0.49293867\n",
      "Max correlation index: 5\n",
      "Avg correlation: 0.4831276\n",
      "=============================================\n",
      "saliency_feats.ndim: (1, 1, 224, 224)\n",
      "saliency_feats.shape: (224, 224)\n",
      "deep_feats.shape: (1, 2048)\n",
      "deep_feats.shape: (2048,)\n",
      "downsampled_feats.shape: (2025,)\n",
      "correlations: [0.33274463, 0.33135226, 0.33039197, 0.3279637, 0.32553336, 0.32327512, 0.32205778, 0.32155728, 0.32112417, 0.3214559, 0.32291552, 0.32517117, 0.32780397, 0.33013475, 0.33218142, 0.3341886, 0.33672905, 0.34032112, 0.34471565, 0.34800515, 0.34957984, 0.35242534, 0.35682568, 0.36048558]\n",
      "Max correlation: 0.36048558\n",
      "Max correlation index: 23\n",
      "Avg correlation: 0.33412245\n",
      "=============================================\n",
      "saliency_feats.ndim: (1, 1, 224, 224)\n",
      "saliency_feats.shape: (224, 224)\n",
      "deep_feats.shape: (1, 2048)\n",
      "deep_feats.shape: (2048,)\n",
      "downsampled_feats.shape: (2025,)\n",
      "correlations: [0.31405124, 0.31408098, 0.3148383, 0.31616253, 0.3194329, 0.32351494, 0.3277884, 0.33141804, 0.33491683, 0.338904, 0.3404985, 0.34136146, 0.3421834, 0.34137407, 0.34082526, 0.34046897, 0.34071422, 0.34147838, 0.3422654, 0.3437774, 0.34493098, 0.34566775, 0.3475409, 0.34951472]\n",
      "Max correlation: 0.34951472\n",
      "Max correlation index: 23\n",
      "Avg correlation: 0.33490458\n",
      "=============================================\n",
      "saliency_feats.ndim: (1, 1, 224, 224)\n",
      "saliency_feats.shape: (224, 224)\n",
      "deep_feats.shape: (1, 2048)\n",
      "deep_feats.shape: (2048,)\n",
      "downsampled_feats.shape: (2025,)\n",
      "correlations: [0.36436912, 0.36566067, 0.3667652, 0.3677615, 0.36952057, 0.37194, 0.37396106, 0.37587225, 0.3774823, 0.38026017, 0.38091013, 0.38141626, 0.3826174, 0.38242313, 0.3820467, 0.38172898, 0.38219333, 0.3835551, 0.38478407, 0.38729808, 0.38960132, 0.39108747, 0.39326343, 0.39541125]\n",
      "Max correlation: 0.39541125\n",
      "Max correlation index: 23\n",
      "Avg correlation: 0.37966374\n",
      "=============================================\n",
      "saliency_feats.ndim: (1, 1, 224, 224)\n",
      "saliency_feats.shape: (224, 224)\n",
      "deep_feats.shape: (1, 2048)\n",
      "deep_feats.shape: (2048,)\n",
      "downsampled_feats.shape: (2025,)\n",
      "correlations: [0.46783006, 0.4670778, 0.46446756, 0.4674023, 0.46719357, 0.4662396, 0.4653992, 0.46204835, 0.46523714, 0.46703628, 0.46452764, 0.46102375, 0.45852885, 0.46170396, 0.46182778, 0.46022484, 0.46231553, 0.46206877, 0.462504, 0.4629551, 0.4645209, 0.46576184, 0.46676302, 0.46615562]\n",
      "Max correlation: 0.46783006\n",
      "Max correlation index: 0\n",
      "Avg correlation: 0.46420053\n",
      "=============================================\n",
      "saliency_feats.ndim: (1, 1, 224, 224)\n",
      "saliency_feats.shape: (224, 224)\n",
      "deep_feats.shape: (1, 2048)\n",
      "deep_feats.shape: (2048,)\n",
      "downsampled_feats.shape: (2025,)\n",
      "correlations: [0.46049652, 0.45830652, 0.45564952, 0.45681247, 0.45861688, 0.45796496, 0.45738623, 0.453138, 0.45665973, 0.4610789, 0.45540515, 0.4515369, 0.44834372, 0.45266986, 0.45353323, 0.44963074, 0.44922888, 0.44801274, 0.44946617, 0.44832098, 0.44899875, 0.44924206, 0.45376953, 0.4548887]\n",
      "Max correlation: 0.4610789\n",
      "Max correlation index: 9\n",
      "Avg correlation: 0.45371488\n",
      "=============================================\n",
      "saliency_feats.ndim: (1, 1, 224, 224)\n",
      "saliency_feats.shape: (224, 224)\n",
      "deep_feats.shape: (1, 2048)\n",
      "deep_feats.shape: (2048,)\n",
      "downsampled_feats.shape: (2025,)\n",
      "correlations: [0.45451564, 0.4523068, 0.4504557, 0.45198125, 0.45074645, 0.45111448, 0.44964087, 0.44809332, 0.4497683, 0.45126727, 0.45293245, 0.45145002, 0.4488809, 0.44903854, 0.44898212, 0.44881442, 0.4477121, 0.44470766, 0.44661927, 0.4521662, 0.455447, 0.4577929, 0.45919463, 0.4626509]\n",
      "Max correlation: 0.4626509\n",
      "Max correlation index: 23\n",
      "Avg correlation: 0.45151162\n",
      "=============================================\n",
      "saliency_feats.ndim: (1, 1, 224, 224)\n",
      "saliency_feats.shape: (224, 224)\n",
      "deep_feats.shape: (1, 2048)\n",
      "deep_feats.shape: (2048,)\n",
      "downsampled_feats.shape: (2025,)\n",
      "correlations: [0.28273466, 0.27835354, 0.27432078, 0.2708023, 0.2696669, 0.27082723, 0.27238834, 0.2740348, 0.27577138, 0.27763796, 0.28162932, 0.2857113, 0.28985703, 0.29272136, 0.29450136, 0.29503435, 0.2927364, 0.28894445, 0.28671134, 0.28555188, 0.2845581, 0.28617096, 0.29073662, 0.29644987]\n",
      "Max correlation: 0.29644987\n",
      "Max correlation index: 23\n",
      "Avg correlation: 0.28324386\n",
      "=============================================\n",
      "saliency_feats.ndim: (1, 1, 224, 224)\n",
      "saliency_feats.shape: (224, 224)\n",
      "deep_feats.shape: (1, 2048)\n",
      "deep_feats.shape: (2048,)\n",
      "downsampled_feats.shape: (2025,)\n",
      "correlations: [0.31954578, 0.32126656, 0.32240832, 0.32048458, 0.3182456, 0.31528524, 0.31249532, 0.3108768, 0.30932203, 0.30907157, 0.30931702, 0.3113542, 0.31593814, 0.32016054, 0.32448557, 0.32856467, 0.33008972, 0.3294395, 0.32718638, 0.32525563, 0.32593283, 0.32680437, 0.3283497, 0.3290642]\n",
      "Max correlation: 0.33008972\n",
      "Max correlation index: 16\n",
      "Avg correlation: 0.320456\n",
      "=============================================\n",
      "saliency_feats.ndim: (1, 1, 224, 224)\n",
      "saliency_feats.shape: (224, 224)\n",
      "deep_feats.shape: (1, 2048)\n",
      "deep_feats.shape: (2048,)\n",
      "downsampled_feats.shape: (2025,)\n",
      "correlations: [0.37073418, 0.37101707, 0.3708092, 0.3691981, 0.36797488, 0.36527073, 0.36222324, 0.36008665, 0.3592853, 0.36047834, 0.36155528, 0.36478427, 0.36989513, 0.3753116, 0.3807627, 0.38679266, 0.3911206, 0.39413542, 0.39631248, 0.3983201, 0.40096864, 0.4021468, 0.40216428, 0.40048328]\n",
      "Max correlation: 0.40216428\n",
      "Max correlation index: 22\n",
      "Avg correlation: 0.37840962\n",
      "=============================================\n",
      "saliency_feats.ndim: (1, 1, 224, 224)\n",
      "saliency_feats.shape: (224, 224)\n",
      "deep_feats.shape: (1, 2048)\n",
      "deep_feats.shape: (2048,)\n",
      "downsampled_feats.shape: (2025,)\n",
      "correlations: [0.33136666, 0.33478028, 0.33683473, 0.33553088, 0.335787, 0.33524603, 0.3318113, 0.32825387, 0.32354698, 0.3228136, 0.32078257, 0.31828168, 0.31825095, 0.31827515, 0.3207235, 0.3235753, 0.3272849, 0.33244196, 0.3378853, 0.3418254, 0.3452206, 0.34561032, 0.34747416, 0.34882194]\n",
      "Max correlation: 0.34882194\n",
      "Max correlation index: 23\n",
      "Avg correlation: 0.3317677\n",
      "=============================================\n",
      "saliency_feats.ndim: (1, 1, 224, 224)\n",
      "saliency_feats.shape: (224, 224)\n",
      "deep_feats.shape: (1, 2048)\n",
      "deep_feats.shape: (2048,)\n",
      "downsampled_feats.shape: (2025,)\n",
      "correlations: [0.3061382, 0.30576184, 0.30500516, 0.30111727, 0.2971373, 0.29223233, 0.28943807, 0.28772688, 0.2863552, 0.28801835, 0.29120448, 0.29660657, 0.30302978, 0.30851087, 0.31407672, 0.31869537, 0.32105282, 0.32207984, 0.3223094, 0.32002956, 0.31728712, 0.31347767, 0.31095463, 0.30971763]\n",
      "Max correlation: 0.3223094\n",
      "Max correlation index: 18\n",
      "Avg correlation: 0.3053318\n",
      "=============================================\n",
      "saliency_feats.ndim: (1, 1, 224, 224)\n",
      "saliency_feats.shape: (224, 224)\n",
      "deep_feats.shape: (1, 2048)\n",
      "deep_feats.shape: (2048,)\n",
      "downsampled_feats.shape: (2025,)\n",
      "correlations: [0.4686531, 0.46868482, 0.46644962, 0.4663892, 0.46544328, 0.46781477, 0.46681383, 0.4644767, 0.4658888, 0.4677721, 0.46882334, 0.46802822, 0.4670127, 0.47022018, 0.46985635, 0.4681683, 0.46585786, 0.46283072, 0.46214488, 0.46478733, 0.46981192, 0.47188964, 0.4739512, 0.4765396]\n",
      "Max correlation: 0.4765396\n",
      "Max correlation index: 23\n",
      "Avg correlation: 0.46784616\n",
      "=============================================\n",
      "saliency_feats.ndim: (1, 1, 224, 224)\n",
      "saliency_feats.shape: (224, 224)\n",
      "deep_feats.shape: (1, 2048)\n",
      "deep_feats.shape: (2048,)\n",
      "downsampled_feats.shape: (2025,)\n",
      "correlations: [0.46306536, 0.4635603, 0.463668, 0.4620805, 0.46119308, 0.46071452, 0.45993978, 0.45868433, 0.46080568, 0.46324995, 0.46302712, 0.46291375, 0.46177933, 0.4626101, 0.46244922, 0.45976722, 0.45761055, 0.4558073, 0.45608738, 0.45722163, 0.46151602, 0.4628391, 0.4655531, 0.4656294]\n",
      "Max correlation: 0.4656294\n",
      "Max correlation index: 23\n",
      "Avg correlation: 0.46132386\n",
      "=============================================\n"
     ]
    },
    {
     "data": {
      "text/plain": "    Sampled Video Frame No.  Cosine similarity\n0                         1           0.306614\n1                         2           0.325397\n2                         3           0.483128\n3                         4           0.334122\n4                         5           0.334905\n5                         6           0.379664\n6                         7           0.464201\n7                         8           0.453715\n8                         9           0.451512\n9                        10           0.283244\n10                       11           0.320456\n11                       12           0.378410\n12                       13           0.331768\n13                       14           0.305332\n14                       15           0.467846\n15                       16           0.461324",
      "text/html": "<div>\n<style scoped>\n    .dataframe tbody tr th:only-of-type {\n        vertical-align: middle;\n    }\n\n    .dataframe tbody tr th {\n        vertical-align: top;\n    }\n\n    .dataframe thead th {\n        text-align: right;\n    }\n</style>\n<table border=\"1\" class=\"dataframe\">\n  <thead>\n    <tr style=\"text-align: right;\">\n      <th></th>\n      <th>Sampled Video Frame No.</th>\n      <th>Cosine similarity</th>\n    </tr>\n  </thead>\n  <tbody>\n    <tr>\n      <th>0</th>\n      <td>1</td>\n      <td>0.306614</td>\n    </tr>\n    <tr>\n      <th>1</th>\n      <td>2</td>\n      <td>0.325397</td>\n    </tr>\n    <tr>\n      <th>2</th>\n      <td>3</td>\n      <td>0.483128</td>\n    </tr>\n    <tr>\n      <th>3</th>\n      <td>4</td>\n      <td>0.334122</td>\n    </tr>\n    <tr>\n      <th>4</th>\n      <td>5</td>\n      <td>0.334905</td>\n    </tr>\n    <tr>\n      <th>5</th>\n      <td>6</td>\n      <td>0.379664</td>\n    </tr>\n    <tr>\n      <th>6</th>\n      <td>7</td>\n      <td>0.464201</td>\n    </tr>\n    <tr>\n      <th>7</th>\n      <td>8</td>\n      <td>0.453715</td>\n    </tr>\n    <tr>\n      <th>8</th>\n      <td>9</td>\n      <td>0.451512</td>\n    </tr>\n    <tr>\n      <th>9</th>\n      <td>10</td>\n      <td>0.283244</td>\n    </tr>\n    <tr>\n      <th>10</th>\n      <td>11</td>\n      <td>0.320456</td>\n    </tr>\n    <tr>\n      <th>11</th>\n      <td>12</td>\n      <td>0.378410</td>\n    </tr>\n    <tr>\n      <th>12</th>\n      <td>13</td>\n      <td>0.331768</td>\n    </tr>\n    <tr>\n      <th>13</th>\n      <td>14</td>\n      <td>0.305332</td>\n    </tr>\n    <tr>\n      <th>14</th>\n      <td>15</td>\n      <td>0.467846</td>\n    </tr>\n    <tr>\n      <th>15</th>\n      <td>16</td>\n      <td>0.461324</td>\n    </tr>\n  </tbody>\n</table>\n</div>"
     },
     "execution_count": 15,
     "metadata": {},
     "output_type": "execute_result"
    }
   ],
   "source": [
    "sample_counts = 16\n",
    "cosine_similarity_list = []\n",
    "for i in range(sample_counts):\n",
    "    # load saliency_features\n",
    "    saliency_feats = np.load(f'./feats/features_saliency_Score-CAM/{i+1}_saliency_features.npy')\n",
    "\n",
    "    print(f'saliency_feats.ndim: {saliency_feats.shape}')\n",
    "    saliency_feats = np.squeeze(saliency_feats)# reduce dimension = 1\n",
    "    print(f'saliency_feats.shape: {saliency_feats.shape}')\n",
    "\n",
    "    # load deep_features\n",
    "    deep_feats = np.load(f'./feats/features_deep_resnet50/{i+1}_deep_features.npy')\n",
    "\n",
    "    print(f'deep_feats.shape: {deep_feats.shape}')\n",
    "    deep_feats = np.squeeze(deep_feats)# reduce dimension = 1\n",
    "    print(f'deep_feats.shape: {deep_feats.shape}')\n",
    "\n",
    "    # shift method:\n",
    "    # Scaling saliency_feats from (224, 224) to (45, 45)\n",
    "    downsampled_feats = Image.fromarray(saliency_feats)\n",
    "    downsampled_feats = downsampled_feats.resize((45, 45), Image.BILINEAR)\n",
    "\n",
    "    # Convert downsampled_saliency_feats to a vector of 2025 dimensions\n",
    "    downsampled_feats = np.array(downsampled_feats).flatten()\n",
    "    print(f'downsampled_feats.shape: {downsampled_feats.shape}')\n",
    "\n",
    "    window_size = 2025  # Define window size\n",
    "    correlations = []\n",
    "\n",
    "    for i in range(len(deep_feats) - window_size + 1):\n",
    "        # Extract the deep_feats subvector in the window\n",
    "        window_deep_feats = deep_feats[i : i + window_size]\n",
    "\n",
    "        # Calculate the correlation between saliency_feats and window_deep_feats\n",
    "        # correlation, _ = stats.pearsonr(downsampled_feats, window_deep_feats) #pearson_corr\n",
    "        correlation = cal_correlation(downsampled_feats, window_deep_feats)\n",
    "\n",
    "        correlations.append(correlation)\n",
    "\n",
    "    print(f'correlations: {correlations}')\n",
    "\n",
    "    max_correlation = max(correlations)\n",
    "    max_correlation_index = correlations.index(max_correlation)\n",
    "    avg_correlation = np.mean(correlations)\n",
    "    cosine_similarity_list.append(avg_correlation)\n",
    "\n",
    "    print(\"Max correlation:\", max_correlation)\n",
    "    print(\"Max correlation index:\", max_correlation_index)\n",
    "    print(\"Avg correlation:\", avg_correlation)\n",
    "    print('=============================================')\n",
    "\n",
    "frame_list = list(range(1, sample_counts + 1))\n",
    "my_dict = {'Sampled Video Frame No.': frame_list, 'Cosine similarity': cosine_similarity_list}\n",
    "df = pd.DataFrame(my_dict, index=None)\n",
    "\n",
    "# 打印DataFrame\n",
    "df.to_csv('./correlation/cosine_similarity.csv', index=False)\n",
    "df"
   ],
   "metadata": {
    "collapsed": false,
    "pycharm": {
     "name": "#%%\n"
    }
   }
  },
  {
   "cell_type": "code",
   "execution_count": 16,
   "outputs": [
    {
     "data": {
      "text/plain": "(1200, 2048)"
     },
     "execution_count": 16,
     "metadata": {},
     "output_type": "execute_result"
    }
   ],
   "source": [
    "data = loadmat('./feats/feats_all/KONVID_1K_CNN_feats.mat')\n",
    "KONVID_CNN_feats = data['feats_mat']\n",
    "KONVID_CNN_feats.shape"
   ],
   "metadata": {
    "collapsed": false,
    "pycharm": {
     "name": "#%%\n"
    }
   }
  },
  {
   "cell_type": "code",
   "execution_count": 17,
   "outputs": [
    {
     "data": {
      "text/plain": "(1200, 224)"
     },
     "execution_count": 17,
     "metadata": {},
     "output_type": "execute_result"
    }
   ],
   "source": [
    "data = loadmat('./feats/feats_all/KONVID_1K_Saliency_feats.mat')\n",
    "KONVID_Saliency_feats = data['feats_mat']\n",
    "KONVID_Saliency_feats.shape"
   ],
   "metadata": {
    "collapsed": false,
    "pycharm": {
     "name": "#%%\n"
    }
   }
  },
  {
   "cell_type": "code",
   "execution_count": 18,
   "outputs": [
    {
     "name": "stdout",
     "output_type": "stream",
     "text": [
      "1825\n"
     ]
    },
    {
     "data": {
      "text/plain": "<Figure size 640x480 with 1 Axes>",
      "image/png": "[encoded data removed]"
     },
     "metadata": {},
     "output_type": "display_data"
    },
    {
     "name": "stdout",
     "output_type": "stream",
     "text": [
      "-0.00567687290721768\n"
     ]
    }
   ],
   "source": [
    "import matplotlib.pyplot as plt\n",
    "window = KONVID_Saliency_feats\n",
    "correlations = []\n",
    "\n",
    "for i in range(KONVID_CNN_feats.shape[1] - window.shape[1] + 1):\n",
    "    segment = KONVID_CNN_feats[:, i : i + window.shape[1]]\n",
    "    correlation = np.corrcoef(window.flatten(), segment.flatten())[0, 1]\n",
    "    correlations.append(correlation)\n",
    "\n",
    "print(len(correlations))\n",
    "# print(correlations)\n",
    "\n",
    "plt.hist(correlations, bins=100)\n",
    "plt.show()\n",
    "print(np.mean(correlations))"
   ],
   "metadata": {
    "collapsed": false,
    "pycharm": {
     "name": "#%%\n"
    }
   }
  },
  {
   "cell_type": "code",
   "execution_count": 18,
   "outputs": [],
   "source": [],
   "metadata": {
    "collapsed": false,
    "pycharm": {
     "name": "#%%\n"
    }
   }
  }
 ],
 "metadata": {
  "kernelspec": {
   "display_name": "Python 3",
   "language": "python",
   "name": "python3"
  },
  "language_info": {
   "codemirror_mode": {
    "name": "ipython",
    "version": 2
   },
   "file_extension": ".py",
   "mimetype": "text/x-python",
   "name": "python",
   "nbconvert_exporter": "python",
   "pygments_lexer": "ipython2",
   "version": "2.7.6"
  }
 },
 "nbformat": 4,
 "nbformat_minor": 0
}